{
  "nbformat": 4,
  "nbformat_minor": 0,
  "metadata": {
    "colab": {
      "provenance": [],
      "authorship_tag": "ABX9TyPWspihPIumorT7ulUJH0+s",
      "include_colab_link": true
    },
    "kernelspec": {
      "name": "python3",
      "display_name": "Python 3"
    },
    "language_info": {
      "name": "python"
    }
  },
  "cells": [
    {
      "cell_type": "markdown",
      "metadata": {
        "id": "view-in-github",
        "colab_type": "text"
      },
      "source": [
        "<a href=\"https://colab.research.google.com/github/SushmaKaniti-5F3/ML_Internship/blob/main/Extract_data_requestURLget.ipynb\" target=\"_parent\"><img src=\"https://colab.research.google.com/assets/colab-badge.svg\" alt=\"Open In Colab\"/></a>"
      ]
    },
    {
      "cell_type": "code",
      "execution_count": 20,
      "metadata": {
        "id": "FBH-p28KzE-8"
      },
      "outputs": [],
      "source": [
        "import numpy"
      ]
    },
    {
      "cell_type": "code",
      "source": [
        "import pandas"
      ],
      "metadata": {
        "id": "r1XG8nji0eyt"
      },
      "execution_count": 21,
      "outputs": []
    },
    {
      "cell_type": "code",
      "source": [
        "import requests"
      ],
      "metadata": {
        "id": "LB4662rX0fa-"
      },
      "execution_count": 22,
      "outputs": []
    },
    {
      "cell_type": "code",
      "source": [
        "url=\"https://official-joke-api.appspot.com/random_ten\""
      ],
      "metadata": {
        "id": "6qqcJZtc0fdG"
      },
      "execution_count": 23,
      "outputs": []
    },
    {
      "cell_type": "code",
      "source": [
        "print(url)"
      ],
      "metadata": {
        "colab": {
          "base_uri": "https://localhost:8080/"
        },
        "id": "sqg52s7m0fgU",
        "outputId": "323965ee-4f66-455c-d819-c9011fbab59a"
      },
      "execution_count": 24,
      "outputs": [
        {
          "output_type": "stream",
          "name": "stdout",
          "text": [
            "https://official-joke-api.appspot.com/random_ten\n"
          ]
        }
      ]
    },
    {
      "cell_type": "code",
      "source": [
        "r=requests.get(url)\n",
        "print(r)"
      ],
      "metadata": {
        "colab": {
          "base_uri": "https://localhost:8080/"
        },
        "id": "AKBiIdJ72RPN",
        "outputId": "91fb8e23-ccb2-4a4d-d58d-8f1748ad4319"
      },
      "execution_count": 25,
      "outputs": [
        {
          "output_type": "stream",
          "name": "stdout",
          "text": [
            "<Response [200]>\n"
          ]
        }
      ]
    },
    {
      "cell_type": "code",
      "source": [
        "r.url"
      ],
      "metadata": {
        "colab": {
          "base_uri": "https://localhost:8080/",
          "height": 36
        },
        "id": "FnFHRuK8v55y",
        "outputId": "0e7b6287-19a5-4176-bf4d-2c3c126dc206"
      },
      "execution_count": 26,
      "outputs": [
        {
          "output_type": "execute_result",
          "data": {
            "text/plain": [
              "'https://official-joke-api.appspot.com/random_ten'"
            ],
            "application/vnd.google.colaboratory.intrinsic+json": {
              "type": "string"
            }
          },
          "metadata": {},
          "execution_count": 26
        }
      ]
    },
    {
      "cell_type": "code",
      "source": [
        "r.text"
      ],
      "metadata": {
        "colab": {
          "base_uri": "https://localhost:8080/",
          "height": 123
        },
        "id": "qIjxOfHyvycT",
        "outputId": "b802b115-14c2-4f22-b552-4ce0268cb85d"
      },
      "execution_count": 27,
      "outputs": [
        {
          "output_type": "execute_result",
          "data": {
            "text/plain": [
              "'[{\"id\":188,\"type\":\"general\",\"setup\":\"What did the left eye say to the right eye?\",\"punchline\":\"Between us, something smells!\"},{\"id\":15,\"type\":\"programming\",\"setup\":\"What\\'s the best thing about a Boolean?\",\"punchline\":\"Even if you\\'re wrong, you\\'re only off by a bit.\"},{\"id\":294,\"type\":\"general\",\"setup\":\"When do doctors get angry?\",\"punchline\":\"When they run out of patients.\"},{\"id\":36,\"type\":\"general\",\"setup\":\"Why did the mushroom get invited to the party?\",\"punchline\":\"Because he was a fungi.\"},{\"id\":275,\"type\":\"general\",\"setup\":\"What type of music do balloons hate?\",\"punchline\":\"Pop music!\"},{\"id\":107,\"type\":\"general\",\"setup\":\"Do I enjoy making courthouse puns?\",\"punchline\":\"Guilty\"},{\"id\":262,\"type\":\"general\",\"setup\":\"What is the tallest building in the world?\",\"punchline\":\"The library, it’s got the most stories!\"},{\"id\":305,\"type\":\"general\",\"setup\":\"Where does Fonzie like to go for lunch?\",\"punchline\":\"Chick-Fil-Eyyyyyyyy.\"},{\"id\":130,\"type\":\"general\",\"setup\":\"How do you make holy water?\",\"punchline\":\"You boil the hell out of it.\"},{\"id\":169,\"type\":\"general\",\"setup\":\"What did the beaver say to the tree?\",\"punchline\":\"It\\'s been nice gnawing you.\"}]'"
            ],
            "application/vnd.google.colaboratory.intrinsic+json": {
              "type": "string"
            }
          },
          "metadata": {},
          "execution_count": 27
        }
      ]
    },
    {
      "cell_type": "code",
      "source": [
        "dir(r)"
      ],
      "metadata": {
        "colab": {
          "base_uri": "https://localhost:8080/"
        },
        "id": "I8M6Kc7o2Q8E",
        "outputId": "e81c9fd4-8063-4276-e2f9-d614f7b71416"
      },
      "execution_count": 28,
      "outputs": [
        {
          "output_type": "execute_result",
          "data": {
            "text/plain": [
              "['__attrs__',\n",
              " '__bool__',\n",
              " '__class__',\n",
              " '__delattr__',\n",
              " '__dict__',\n",
              " '__dir__',\n",
              " '__doc__',\n",
              " '__enter__',\n",
              " '__eq__',\n",
              " '__exit__',\n",
              " '__format__',\n",
              " '__ge__',\n",
              " '__getattribute__',\n",
              " '__getstate__',\n",
              " '__gt__',\n",
              " '__hash__',\n",
              " '__init__',\n",
              " '__init_subclass__',\n",
              " '__iter__',\n",
              " '__le__',\n",
              " '__lt__',\n",
              " '__module__',\n",
              " '__ne__',\n",
              " '__new__',\n",
              " '__nonzero__',\n",
              " '__reduce__',\n",
              " '__reduce_ex__',\n",
              " '__repr__',\n",
              " '__setattr__',\n",
              " '__setstate__',\n",
              " '__sizeof__',\n",
              " '__str__',\n",
              " '__subclasshook__',\n",
              " '__weakref__',\n",
              " '_content',\n",
              " '_content_consumed',\n",
              " '_next',\n",
              " 'apparent_encoding',\n",
              " 'close',\n",
              " 'connection',\n",
              " 'content',\n",
              " 'cookies',\n",
              " 'elapsed',\n",
              " 'encoding',\n",
              " 'headers',\n",
              " 'history',\n",
              " 'is_permanent_redirect',\n",
              " 'is_redirect',\n",
              " 'iter_content',\n",
              " 'iter_lines',\n",
              " 'json',\n",
              " 'links',\n",
              " 'next',\n",
              " 'ok',\n",
              " 'raise_for_status',\n",
              " 'raw',\n",
              " 'reason',\n",
              " 'request',\n",
              " 'status_code',\n",
              " 'text',\n",
              " 'url']"
            ]
          },
          "metadata": {},
          "execution_count": 28
        }
      ]
    },
    {
      "cell_type": "code",
      "source": [
        "r.status_code"
      ],
      "metadata": {
        "colab": {
          "base_uri": "https://localhost:8080/"
        },
        "id": "gLClge9kv6Fk",
        "outputId": "c6efb834-6b7d-4eb6-ccb3-48af5e8166cd"
      },
      "execution_count": 29,
      "outputs": [
        {
          "output_type": "execute_result",
          "data": {
            "text/plain": [
              "200"
            ]
          },
          "metadata": {},
          "execution_count": 29
        }
      ]
    },
    {
      "cell_type": "code",
      "source": [
        "type(r)"
      ],
      "metadata": {
        "colab": {
          "base_uri": "https://localhost:8080/"
        },
        "id": "83AnjaJv2RKL",
        "outputId": "679e53a1-f89e-448e-9b2d-8f742b0692b9"
      },
      "execution_count": 30,
      "outputs": [
        {
          "output_type": "execute_result",
          "data": {
            "text/plain": [
              "requests.models.Response"
            ]
          },
          "metadata": {},
          "execution_count": 30
        }
      ]
    },
    {
      "cell_type": "code",
      "source": [
        "s=r.json()\n",
        "print(s)"
      ],
      "metadata": {
        "colab": {
          "base_uri": "https://localhost:8080/"
        },
        "id": "a_q9_J8O2RSN",
        "outputId": "db2d4335-1676-46eb-b2de-296e0ba48acf"
      },
      "execution_count": 31,
      "outputs": [
        {
          "output_type": "stream",
          "name": "stdout",
          "text": [
            "[{'id': 188, 'type': 'general', 'setup': 'What did the left eye say to the right eye?', 'punchline': 'Between us, something smells!'}, {'id': 15, 'type': 'programming', 'setup': \"What's the best thing about a Boolean?\", 'punchline': \"Even if you're wrong, you're only off by a bit.\"}, {'id': 294, 'type': 'general', 'setup': 'When do doctors get angry?', 'punchline': 'When they run out of patients.'}, {'id': 36, 'type': 'general', 'setup': 'Why did the mushroom get invited to the party?', 'punchline': 'Because he was a fungi.'}, {'id': 275, 'type': 'general', 'setup': 'What type of music do balloons hate?', 'punchline': 'Pop music!'}, {'id': 107, 'type': 'general', 'setup': 'Do I enjoy making courthouse puns?', 'punchline': 'Guilty'}, {'id': 262, 'type': 'general', 'setup': 'What is the tallest building in the world?', 'punchline': 'The library, it’s got the most stories!'}, {'id': 305, 'type': 'general', 'setup': 'Where does Fonzie like to go for lunch?', 'punchline': 'Chick-Fil-Eyyyyyyyy.'}, {'id': 130, 'type': 'general', 'setup': 'How do you make holy water?', 'punchline': 'You boil the hell out of it.'}, {'id': 169, 'type': 'general', 'setup': 'What did the beaver say to the tree?', 'punchline': \"It's been nice gnawing you.\"}]\n"
          ]
        }
      ]
    },
    {
      "cell_type": "code",
      "source": [
        "type(s)"
      ],
      "metadata": {
        "colab": {
          "base_uri": "https://localhost:8080/"
        },
        "id": "oETAzEGMwx2s",
        "outputId": "106a64f4-417e-4658-da8f-473e2569bdff"
      },
      "execution_count": 32,
      "outputs": [
        {
          "output_type": "execute_result",
          "data": {
            "text/plain": [
              "list"
            ]
          },
          "metadata": {},
          "execution_count": 32
        }
      ]
    },
    {
      "cell_type": "code",
      "source": [
        "len(s)"
      ],
      "metadata": {
        "colab": {
          "base_uri": "https://localhost:8080/"
        },
        "id": "iwyrRbVOwyFG",
        "outputId": "c5bdd3dd-2f00-48be-aeb3-bb1ffd4644ad"
      },
      "execution_count": 33,
      "outputs": [
        {
          "output_type": "execute_result",
          "data": {
            "text/plain": [
              "10"
            ]
          },
          "metadata": {},
          "execution_count": 33
        }
      ]
    },
    {
      "cell_type": "code",
      "source": [
        "s[0]"
      ],
      "metadata": {
        "colab": {
          "base_uri": "https://localhost:8080/"
        },
        "id": "Fkb7H5u_wyIA",
        "outputId": "75163965-5855-4143-947a-0b0bd4ee6168"
      },
      "execution_count": 34,
      "outputs": [
        {
          "output_type": "execute_result",
          "data": {
            "text/plain": [
              "{'id': 188,\n",
              " 'type': 'general',\n",
              " 'setup': 'What did the left eye say to the right eye?',\n",
              " 'punchline': 'Between us, something smells!'}"
            ]
          },
          "metadata": {},
          "execution_count": 34
        }
      ]
    }
  ]
}