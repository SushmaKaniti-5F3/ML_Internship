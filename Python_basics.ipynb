{
  "nbformat": 4,
  "nbformat_minor": 0,
  "metadata": {
    "colab": {
      "provenance": [],
      "collapsed_sections": [],
      "authorship_tag": "ABX9TyOe1ujSvvpPL1N/k1LtxyBo",
      "include_colab_link": true
    },
    "kernelspec": {
      "name": "python3",
      "display_name": "Python 3"
    },
    "language_info": {
      "name": "python"
    }
  },
  "cells": [
    {
      "cell_type": "markdown",
      "metadata": {
        "id": "view-in-github",
        "colab_type": "text"
      },
      "source": [
        "<a href=\"https://colab.research.google.com/github/SushmaKaniti-5F3/ML_Internship/blob/main/Python_basics.ipynb\" target=\"_parent\"><img src=\"https://colab.research.google.com/assets/colab-badge.svg\" alt=\"Open In Colab\"/></a>"
      ]
    },
    {
      "cell_type": "code",
      "source": [
        "#string methods\n",
        "name=\"APPELETON INNOVATIONS\"\n",
        "print(name.lower())\n",
        "print(name.upper())\n",
        "print(name.title())\n",
        "print(name.capitalize())"
      ],
      "metadata": {
        "id": "kzVlKtCbAWqA",
        "colab": {
          "base_uri": "https://localhost:8080/"
        },
        "outputId": "6e7ef0c7-4857-4790-8754-fa8688183e72"
      },
      "execution_count": 8,
      "outputs": [
        {
          "output_type": "stream",
          "name": "stdout",
          "text": [
            "appeleton innovations\n",
            "APPELETON INNOVATIONS\n",
            "Appeleton Innovations\n",
            "Appeleton innovations\n"
          ]
        }
      ]
    },
    {
      "cell_type": "code",
      "source": [
        "a=\"1\"\n",
        "b=\"a\"\n",
        "print(\"a:\",type(a))\n",
        "print(\"b:\",type(b))"
      ],
      "metadata": {
        "id": "TWVXSrOvA2XZ",
        "colab": {
          "base_uri": "https://localhost:8080/"
        },
        "outputId": "f762cd2f-be5e-4702-8d47-8188e6761847"
      },
      "execution_count": 9,
      "outputs": [
        {
          "output_type": "stream",
          "name": "stdout",
          "text": [
            "a: <class 'str'>\n",
            "b: <class 'str'>\n"
          ]
        }
      ]
    },
    {
      "cell_type": "code",
      "source": [
        "#Usage of Access specifiers in professional way\n",
        "print(\"combination of '%s' and '%s' is %s\"%(a,b,a+b))"
      ],
      "metadata": {
        "id": "-1IObnefB-aN",
        "colab": {
          "base_uri": "https://localhost:8080/"
        },
        "outputId": "d48eaaaf-c478-423c-eac5-97c307dce24b"
      },
      "execution_count": 10,
      "outputs": [
        {
          "output_type": "stream",
          "name": "stdout",
          "text": [
            "combination of '1' and 'a' is 1a\n"
          ]
        }
      ]
    },
    {
      "cell_type": "code",
      "source": [
        "#Explicit Typecasting - can be done using built-in func. like str(),int()\n",
        "print(str(12)+\"apple\")\n",
        "\n",
        "#Implicit Typecasting - In this, interpreter does the typecasting\n",
        "print(1.01+1)"
      ],
      "metadata": {
        "id": "0ZpQOpbTC1W0",
        "colab": {
          "base_uri": "https://localhost:8080/"
        },
        "outputId": "4e602624-9dea-4612-8916-72aa36ee884f"
      },
      "execution_count": 11,
      "outputs": [
        {
          "output_type": "stream",
          "name": "stdout",
          "text": [
            "12apple\n",
            "2.01\n"
          ]
        }
      ]
    },
    {
      "cell_type": "code",
      "source": [
        "#Taking str input\n",
        "fname=input(\"Enter a str:\")\n",
        "#Taking int input\n",
        "i1=int(input(\"Enter integer:\"))"
      ],
      "metadata": {
        "id": "6qY7t6E_Fj51",
        "colab": {
          "base_uri": "https://localhost:8080/"
        },
        "outputId": "097275b7-9b8b-479c-a935-e40a8460ca31"
      },
      "execution_count": 12,
      "outputs": [
        {
          "name": "stdout",
          "output_type": "stream",
          "text": [
            "Enter a str:abc\n",
            "Enter integer:1200\n"
          ]
        }
      ]
    },
    {
      "cell_type": "markdown",
      "source": [
        "```\n",
        "  #Operators\n",
        "    comparision: ==\n",
        "    Relational:  >, <, \n",
        "    logical: and, or, not \n",
        "    boolean: &, |, ^\n",
        "    assignment: =\n",
        "```\n",
        "\n",
        "\n",
        "\n"
      ],
      "metadata": {
        "id": "bNXaw3NFQAOY"
      }
    },
    {
      "cell_type": "code",
      "source": [
        "#Bio-data\n",
        "fname=input(\"Enter your first name:\")\n",
        "lname=input(\"Enter your last name:\")\n",
        "age=int(input(\"Enter your age:\"))\n",
        "dob=input(\"Enter your date of birth:\")\n",
        "gender=input(\"Enter your gender:\")\n",
        "phno=int(input(\"Enter your phone number:\"))\n",
        "address=input(\"Enter your address:\")\n",
        "print(fname+lname,dob,age,gender,phno,address,sep=\"\\n\")"
      ],
      "metadata": {
        "id": "F-w_hs7qLOXv",
        "colab": {
          "base_uri": "https://localhost:8080/"
        },
        "outputId": "20bd6bea-c19c-45bd-9faa-fc64a690261b"
      },
      "execution_count": 13,
      "outputs": [
        {
          "output_type": "stream",
          "name": "stdout",
          "text": [
            "Enter your first name:Sushma\n",
            "Enter your last name:Kaniti\n",
            "Enter your age:20\n",
            "Enter your date of birth:19 April 2002\n",
            "Enter your gender:Female\n",
            "Enter your phone number:9291307130\n",
            "Enter your address:Vijaya lakshmi Nagar, Mandapeta\n",
            "SushmaKaniti\n",
            "19 April 2002\n",
            "20\n",
            "Female\n",
            "9291307130\n",
            "Vijaya lakshmi Nagar, Mandapeta\n"
          ]
        }
      ]
    },
    {
      "cell_type": "code",
      "source": [
        "#finding Min-Max of two no's\n",
        "a=int(input())\n",
        "b=int(input())\n",
        "if(a>b):\n",
        "  print(\"%d is big and %d is small\"%(a,b))\n",
        "\n",
        "else:\n",
        "  print(\"%d is big and %d is small\"%(b,a))"
      ],
      "metadata": {
        "id": "1OnTjIQSP-p4",
        "colab": {
          "base_uri": "https://localhost:8080/"
        },
        "outputId": "94b01748-8f30-4c7b-b0bd-505902ece07e"
      },
      "execution_count": 14,
      "outputs": [
        {
          "output_type": "stream",
          "name": "stdout",
          "text": [
            "4\n",
            "9\n",
            "9 is big and 4 is small\n"
          ]
        }
      ]
    },
    {
      "cell_type": "code",
      "source": [
        "#finding Min-Max of three no's\n",
        "a=int(input())\n",
        "b=int(input())\n",
        "c=int(input())\n",
        "if(a>b and a>c):\n",
        "  print(\"%d is big \"%(a))\n",
        "elif(b>a and b>c):\n",
        "  print(\"%d is big \"%(b))\n",
        "else:\n",
        "  print(\"%d is big \"%(c))"
      ],
      "metadata": {
        "id": "fCiwa_unQT5y",
        "colab": {
          "base_uri": "https://localhost:8080/"
        },
        "outputId": "4131a489-a911-4a4b-b306-87923cf5be88"
      },
      "execution_count": 15,
      "outputs": [
        {
          "output_type": "stream",
          "name": "stdout",
          "text": [
            "12\n",
            "17\n",
            "100\n",
            "100 is big \n"
          ]
        }
      ]
    }
  ]
}